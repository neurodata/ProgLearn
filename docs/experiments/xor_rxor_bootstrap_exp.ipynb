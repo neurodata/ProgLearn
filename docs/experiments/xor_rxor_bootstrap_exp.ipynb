{
 "cells": [
  {
   "cell_type": "markdown",
   "id": "fbec258d-c58d-4218-ae9b-14bc01295e26",
   "metadata": {
    "tags": []
   },
   "source": [
    "# Gaussian XOR and Gaussian R-XOR Random Forest Bootstrap Experiment"
   ]
  },
  {
   "cell_type": "markdown",
   "id": "fa57f1bb",
   "metadata": {},
   "source": [
    "## Overview"
   ]
  },
  {
   "cell_type": "markdown",
   "id": "d51addd4-5e62-4121-b09a-4b9b3624f359",
   "metadata": {},
   "source": [
    "In this experiment, we are interested in learning at which angles RXOR is significantly different from XOR to warrant training a new Random Forest. We will do this for each angle in the angle sweep by:\n",
    "1. Generating 100 XOR and 100 RXOR samples and training their respective trees on randomly selected 70 samples from each.\n",
    "2. Concatenating the remaing 30 samples from both distributions (60 samples total) and pushing them through both XOR and RXOR random forests to get an array of probabilities for each sample. \n",
    "3. Calculate L2 distance between the 2 arrays of probabilities. We will call this d1.\n",
    "4. Concatenate ALL XOR and RXOR samples (200 total) and randomly select 70 samples to be XOR_new and 70 samples to be RXOR_new (bootstrap).\n",
    "5. Train 2 new trees with XOR_new and RXOR_new.\n",
    "6. Use the remaining 60 samples to calculate probabilities from both new trees.\n",
    "7. Calculate L2 distance between the new probabilities (d2).\n",
    "8. Repeat steps 4-7 1000 times and calculate p-value by 1 - ((# of times d1 > d2)/1000).\n",
    "9. This entire experiment is then repeated 100 times to account for randomness.\n",
    "\n",
    "Finally, we take the mean of the p-values across each 100 tests for each angle and plot."
   ]
  },
  {
   "cell_type": "markdown",
   "id": "5f10072f",
   "metadata": {},
   "source": [
    "## Running the Experiment"
   ]
  },
  {
   "cell_type": "markdown",
   "id": "699c54f3-2eee-45f7-93a2-3fa2ed07852c",
   "metadata": {},
   "source": [
    "We will start by importing dependencies and running the experiment outlined above. This will take quite a while."
   ]
  },
  {
   "cell_type": "code",
   "execution_count": null,
   "id": "a76c3187-3074-4eab-b82a-7212693acd1d",
   "metadata": {},
   "outputs": [],
   "source": [
    "# import\n",
    "import time\n",
    "import matplotlib.pyplot as plt\n",
    "import numpy as np\n",
    "import pandas as pd\n",
    "import xor_rxor_bootstrap_fns as fn"
   ]
  },
  {
   "cell_type": "code",
   "execution_count": null,
   "id": "0f1606f8-4a2c-4dd7-9f9c-ba873f873267",
   "metadata": {
    "tags": []
   },
   "outputs": [],
   "source": [
    "# set angle sweep\n",
    "angle_sweep = range(0, 90, 5)\n",
    "# data frame to store p values from each run\n",
    "p_val_df = pd.DataFrame()\n",
    "\n",
    "# time experiment\n",
    "start = time.time()\n",
    "\n",
    "# run the experiment for 100 repetitions, bootstrap each experiment for 1000 reps\n",
    "for i in range(100):\n",
    "    p_val_df[i] = fn.bootstrap(angle_sweep=angle_sweep, n_samples=100, reps=1000)\n",
    "end = time.time()\n",
    "\n",
    "# entire experiment run time\n",
    "print(\"\\nThe function took {:.2f} s to compute.\".format(end - start))\n",
    "# The function took 26973.70 s to compute."
   ]
  },
  {
   "cell_type": "markdown",
   "id": "65ebd653",
   "metadata": {},
   "source": [
    "## Visualizing the Results"
   ]
  },
  {
   "cell_type": "markdown",
   "id": "68b85968-6853-4c3c-9fc3-d97c3bff8f73",
   "metadata": {
    "tags": []
   },
   "source": [
    "Next, we compute the mean across each test for each angle. We will use this to the mean p-value for each angle with errors bars for the 25th and 75th percentiles. "
   ]
  },
  {
   "cell_type": "code",
   "execution_count": 4,
   "id": "29c30725-cae7-42a0-80f9-ed1336ecde13",
   "metadata": {},
   "outputs": [],
   "source": [
    "# compute mean across each test for each angle\n",
    "p_val_df[\"mean\"] = p_val_df.mean(axis=1)"
   ]
  },
  {
   "cell_type": "code",
   "execution_count": 5,
   "id": "496fca00-c10b-4396-ad0e-b6ed188f04ab",
   "metadata": {},
   "outputs": [
    {
     "data": {
      "text/plain": [
       "Text(0.5, 1.0, 'Angle of Rotation vs mean P-Value')"
      ]
     },
     "execution_count": 5,
     "metadata": {},
     "output_type": "execute_result"
    },
    {
     "data": {
      "image/png": "[encoded data removed]",
      "text/plain": [
       "<Figure size 432x288 with 1 Axes>"
      ]
     },
     "metadata": {
      "needs_background": "light"
     },
     "output_type": "display_data"
    }
   ],
   "source": [
    "# plot with error bars\n",
    "qunatiles = np.nanquantile(p_val_df.iloc[:, :-1], [0.25, 0.75], axis=1)\n",
    "plt.fill_between(angle_sweep, qunatiles[0], qunatiles[1], facecolor=\"r\", alpha=0.3)\n",
    "plt.plot(angle_sweep, p_val_df[\"mean\"])\n",
    "plt.xlabel(\"Angle of Rotation RXOR\")\n",
    "plt.ylabel(\"P-Value\")\n",
    "plt.title(\"Angle of Rotation vs mean P-Value\")"
   ]
  },
  {
   "cell_type": "markdown",
   "id": "cc990f97",
   "metadata": {},
   "source": [
    "## Saving our Results"
   ]
  },
  {
   "cell_type": "markdown",
   "id": "3aeae5ba-dc05-4454-8bf5-947f6b51cac8",
   "metadata": {},
   "source": [
    "Finally, we can write this dataframe to csv to avoid rerunning the experiment."
   ]
  },
  {
   "cell_type": "code",
   "execution_count": 6,
   "id": "b21328ff-eb61-405f-9e01-406ecfe7f7e8",
   "metadata": {},
   "outputs": [],
   "source": [
    "# optional write to csv\n",
    "p_val_df.to_csv(\"p_val_df_with_mean.csv\")"
   ]
  }
 ],
 "metadata": {
  "kernelspec": {
   "display_name": "Python 3 (ipykernel)",
   "language": "python",
   "name": "python3"
  },
  "language_info": {
   "codemirror_mode": {
    "name": "ipython",
    "version": 3
   },
   "file_extension": ".py",
   "mimetype": "text/x-python",
   "name": "python",
   "nbconvert_exporter": "python",
   "pygments_lexer": "ipython3",
   "version": "3.9.7"
  }
 },
 "nbformat": 4,
 "nbformat_minor": 5
}
